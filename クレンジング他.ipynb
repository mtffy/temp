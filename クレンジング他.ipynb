{
  "nbformat": 4,
  "nbformat_minor": 0,
  "metadata": {
    "colab": {
      "name": "クレンジング他.ipynb のコピー",
      "provenance": [],
      "mount_file_id": "15iHvc-YrZ2qtVZ3__m07zOrA9mpeh5Yw",
      "authorship_tag": "ABX9TyP+NbM5DJx04W8gwa1qasFU",
      "include_colab_link": true
    },
    "kernelspec": {
      "name": "python3",
      "display_name": "Python 3"
    },
    "language_info": {
      "name": "python"
    }
  },
  "cells": [
    {
      "cell_type": "markdown",
      "metadata": {
        "id": "view-in-github",
        "colab_type": "text"
      },
      "source": [
        "<a href=\"https://colab.research.google.com/github/mtffy/temp/blob/main/%E3%82%AF%E3%83%AC%E3%83%B3%E3%82%B8%E3%83%B3%E3%82%B0%E4%BB%96.ipynb\" target=\"_parent\"><img src=\"https://colab.research.google.com/assets/colab-badge.svg\" alt=\"Open In Colab\"/></a>"
      ]
    },
    {
      "cell_type": "markdown",
      "metadata": {
        "id": "JPm_WTbsUJaa"
      },
      "source": [
        "# 参考サイト\n",
        "- https://betashort-lab.com/%E8%87%AA%E7%84%B6%E8%A8%80%E8%AA%9E%E5%87%A6%E7%90%86/python-nltk%E3%82%92%E4%BD%BF%E3%81%A3%E3%81%9F%E8%8B%B1%E5%8D%98%E8%AA%9E%E3%81%AE%E8%AA%9E%E5%B9%B9%E6%8A%BD%E5%87%BA/\n",
        "- http://www.f.waseda.jp/yusukekondo/TALLWINTER/TALLWINTER101.html"
      ]
    },
    {
      "cell_type": "code",
      "metadata": {
        "colab": {
          "base_uri": "https://localhost:8080/"
        },
        "id": "Yht4RM7mIwOc",
        "outputId": "2379ef9a-2d94-4629-979a-952fb230e8ba"
      },
      "source": [
        "!pip install nltk"
      ],
      "execution_count": null,
      "outputs": [
        {
          "output_type": "stream",
          "name": "stdout",
          "text": [
            "Requirement already satisfied: nltk in /usr/local/lib/python3.7/dist-packages (3.2.5)\n",
            "Requirement already satisfied: six in /usr/local/lib/python3.7/dist-packages (from nltk) (1.15.0)\n"
          ]
        }
      ]
    },
    {
      "cell_type": "code",
      "metadata": {
        "id": "IRyCyz1hH9gF"
      },
      "source": [
        "import os\n",
        "import numpy as np\n",
        "import pandas as pd\n",
        "import nltk\n",
        "nltk.download('all')"
      ],
      "execution_count": null,
      "outputs": []
    },
    {
      "cell_type": "code",
      "metadata": {
        "id": "A0hsgbSgNb0Y"
      },
      "source": [
        "train = pd.read_csv(\"/content/drive/MyDrive/python/2021_NTTD_AIcom/data/training.tsv\", nrows=5, sep=\"\\t\")"
      ],
      "execution_count": null,
      "outputs": []
    },
    {
      "cell_type": "code",
      "metadata": {
        "colab": {
          "base_uri": "https://localhost:8080/",
          "height": 204
        },
        "id": "-v4uzH8sNkXF",
        "outputId": "19726cf7-bb12-4196-805f-efbd6ccc116f"
      },
      "source": [
        "train"
      ],
      "execution_count": null,
      "outputs": [
        {
          "output_type": "execute_result",
          "data": {
            "text/html": [
              "<div>\n",
              "<style scoped>\n",
              "    .dataframe tbody tr th:only-of-type {\n",
              "        vertical-align: middle;\n",
              "    }\n",
              "\n",
              "    .dataframe tbody tr th {\n",
              "        vertical-align: top;\n",
              "    }\n",
              "\n",
              "    .dataframe thead th {\n",
              "        text-align: right;\n",
              "    }\n",
              "</style>\n",
              "<table border=\"1\" class=\"dataframe\">\n",
              "  <thead>\n",
              "    <tr style=\"text-align: right;\">\n",
              "      <th></th>\n",
              "      <th>sid</th>\n",
              "      <th>sentence</th>\n",
              "      <th>html_id</th>\n",
              "      <th>label</th>\n",
              "    </tr>\n",
              "  </thead>\n",
              "  <tbody>\n",
              "    <tr>\n",
              "      <th>0</th>\n",
              "      <td>tr-01-0000</td>\n",
              "      <td>PART I</td>\n",
              "      <td>Form10k_01</td>\n",
              "      <td>0</td>\n",
              "    </tr>\n",
              "    <tr>\n",
              "      <th>1</th>\n",
              "      <td>tr-01-0001</td>\n",
              "      <td>The “Business” section and other parts of this...</td>\n",
              "      <td>Form10k_01</td>\n",
              "      <td>0</td>\n",
              "    </tr>\n",
              "    <tr>\n",
              "      <th>2</th>\n",
              "      <td>tr-01-0002</td>\n",
              "      <td>Statements that are not historical facts, inc...</td>\n",
              "      <td>Form10k_01</td>\n",
              "      <td>0</td>\n",
              "    </tr>\n",
              "    <tr>\n",
              "      <th>3</th>\n",
              "      <td>tr-01-0003</td>\n",
              "      <td>Our actual results may differ materially from...</td>\n",
              "      <td>Form10k_01</td>\n",
              "      <td>0</td>\n",
              "    </tr>\n",
              "    <tr>\n",
              "      <th>4</th>\n",
              "      <td>tr-01-0004</td>\n",
              "      <td>Factors that could cause such differences inc...</td>\n",
              "      <td>Form10k_01</td>\n",
              "      <td>0</td>\n",
              "    </tr>\n",
              "  </tbody>\n",
              "</table>\n",
              "</div>"
            ],
            "text/plain": [
              "          sid  ... label\n",
              "0  tr-01-0000  ...     0\n",
              "1  tr-01-0001  ...     0\n",
              "2  tr-01-0002  ...     0\n",
              "3  tr-01-0003  ...     0\n",
              "4  tr-01-0004  ...     0\n",
              "\n",
              "[5 rows x 4 columns]"
            ]
          },
          "metadata": {},
          "execution_count": 12
        }
      ]
    },
    {
      "cell_type": "markdown",
      "metadata": {
        "id": "jtcYz-HINQQD"
      },
      "source": [
        "# 分かち書きテスト"
      ]
    },
    {
      "cell_type": "code",
      "metadata": {
        "colab": {
          "base_uri": "https://localhost:8080/"
        },
        "id": "QCjMLYA6I4jg",
        "outputId": "711e89b5-52c8-4de0-9310-5c8d0fb5bc9c"
      },
      "source": [
        "s = \"The objective here is conceptualise a methodology to define a better data analytics and motivate fellow employees to participate and learn along.\"\n",
        "morph = nltk.word_tokenize(s)\n",
        "print(morph)\n",
        "\n",
        "ss = train['sentence'].tolist()\n",
        "for s in ss:\n",
        "    morph = nltk.word_tokenize(s)\n",
        "    print(morph)"
      ],
      "execution_count": null,
      "outputs": [
        {
          "output_type": "stream",
          "name": "stdout",
          "text": [
            "['The', 'objective', 'here', 'is', 'conceptualise', 'a', 'methodology', 'to', 'define', 'a', 'better', 'data', 'analytics', 'and', 'motivate', 'fellow', 'employees', 'to', 'participate', 'and', 'learn', 'along', '.']\n",
            "['PART', 'I']\n",
            "['The', '“', 'Business', '”', 'section', 'and', 'other', 'parts', 'of', 'this', 'Form', '10-K', 'contain', 'forward-looking', 'statements', 'that', 'involve', 'inherent', 'risks', 'and', 'uncertainties', '.']\n",
            "['Statements', 'that', 'are', 'not', 'historical', 'facts', ',', 'including', 'statements', 'about', 'our', 'beliefs', 'and', 'expectations', ',', 'and', 'containing', 'words', 'such', 'as', '“', 'believes', ',', '”', '“', 'estimates', ',', '”', '“', 'anticipates', ',', '”', '“', 'expects', '”', 'or', 'similar', 'words', 'are', 'forward-looking', 'statements', '.']\n",
            "['Our', 'actual', 'results', 'may', 'differ', 'materially', 'from', 'the', 'projected', 'results', 'discussed', 'in', 'the', 'forward-looking', 'statements', '.']\n",
            "['Factors', 'that', 'could', 'cause', 'such', 'differences', 'include', ',', 'but', 'are', 'not', 'limited', 'to', ',', 'those', 'discussed', 'in', '“', 'Item', '1A', '.', 'Risk', 'Factors', '”', 'and', 'in', 'the', '“', 'Forward-Looking', 'Statements', '–', 'Cautionary', 'Language', '”', 'in', '“', 'Part', 'II', '–', 'Item', '7', '.']\n"
          ]
        }
      ]
    },
    {
      "cell_type": "markdown",
      "metadata": {
        "id": "9MvPTXT0OOgV"
      },
      "source": [
        "# 単語ごとの品詞"
      ]
    },
    {
      "cell_type": "code",
      "metadata": {
        "colab": {
          "base_uri": "https://localhost:8080/"
        },
        "id": "XLlBs3ISKL0Q",
        "outputId": "1303dc1a-a87d-400f-ec7e-874bb772e108"
      },
      "source": [
        "pos = nltk.pos_tag(morph)\n",
        "print(pos)"
      ],
      "execution_count": null,
      "outputs": [
        {
          "output_type": "stream",
          "name": "stdout",
          "text": [
            "[('Factors', 'NNS'), ('that', 'WDT'), ('could', 'MD'), ('cause', 'VB'), ('such', 'JJ'), ('differences', 'NNS'), ('include', 'VBP'), (',', ','), ('but', 'CC'), ('are', 'VBP'), ('not', 'RB'), ('limited', 'VBN'), ('to', 'TO'), (',', ','), ('those', 'DT'), ('discussed', 'VBN'), ('in', 'IN'), ('“', 'NNP'), ('Item', 'NNP'), ('1A', 'CD'), ('.', '.'), ('Risk', 'NN'), ('Factors', 'NNS'), ('”', 'VBP'), ('and', 'CC'), ('in', 'IN'), ('the', 'DT'), ('“', 'JJ'), ('Forward-Looking', 'JJ'), ('Statements', 'NNS'), ('–', 'VBP'), ('Cautionary', 'JJ'), ('Language', 'NNP'), ('”', 'NN'), ('in', 'IN'), ('“', 'NNP'), ('Part', 'NNP'), ('II', 'NNP'), ('–', 'NNP'), ('Item', 'NNP'), ('7', 'CD'), ('.', '.')]\n"
          ]
        }
      ]
    },
    {
      "cell_type": "code",
      "metadata": {
        "colab": {
          "base_uri": "https://localhost:8080/",
          "height": 35
        },
        "id": "yH720DV_Skvm",
        "outputId": "de901e15-87cb-43e6-f4b4-0540c107940e"
      },
      "source": [
        "pos[1][1]"
      ],
      "execution_count": null,
      "outputs": [
        {
          "output_type": "execute_result",
          "data": {
            "application/vnd.google.colaboratory.intrinsic+json": {
              "type": "string"
            },
            "text/plain": [
              "'WDT'"
            ]
          },
          "metadata": {},
          "execution_count": 21
        }
      ]
    },
    {
      "cell_type": "markdown",
      "metadata": {
        "id": "4P7kzzGWOHDS"
      },
      "source": [
        "#　動詞を原型にする(語幹化)\n",
        "\n"
      ]
    },
    {
      "cell_type": "code",
      "metadata": {
        "colab": {
          "base_uri": "https://localhost:8080/"
        },
        "id": "top8xEL1Rw6X",
        "outputId": "493944b9-f39e-4e73-8fb3-2c8595104945"
      },
      "source": [
        "from nltk.stem import PorterStemmer\n",
        "\n",
        "ps = PorterStemmer()\n",
        "  \n",
        "for w in morph:\n",
        "    print(w, \" : \", ps.stem(w))"
      ],
      "execution_count": null,
      "outputs": [
        {
          "output_type": "stream",
          "name": "stdout",
          "text": [
            "Factors  :  factor\n",
            "that  :  that\n",
            "could  :  could\n",
            "cause  :  caus\n",
            "such  :  such\n",
            "differences  :  differ\n",
            "include  :  includ\n",
            ",  :  ,\n",
            "but  :  but\n",
            "are  :  are\n",
            "not  :  not\n",
            "limited  :  limit\n",
            "to  :  to\n",
            ",  :  ,\n",
            "those  :  those\n",
            "discussed  :  discuss\n",
            "in  :  in\n",
            "“  :  “\n",
            "Item  :  item\n",
            "1A  :  1A\n",
            ".  :  .\n",
            "Risk  :  risk\n",
            "Factors  :  factor\n",
            "”  :  ”\n",
            "and  :  and\n",
            "in  :  in\n",
            "the  :  the\n",
            "“  :  “\n",
            "Forward-Looking  :  forward-look\n",
            "Statements  :  statement\n",
            "–  :  –\n",
            "Cautionary  :  cautionari\n",
            "Language  :  languag\n",
            "”  :  ”\n",
            "in  :  in\n",
            "“  :  “\n",
            "Part  :  part\n",
            "II  :  II\n",
            "–  :  –\n",
            "Item  :  item\n",
            "7  :  7\n",
            ".  :  .\n"
          ]
        }
      ]
    },
    {
      "cell_type": "code",
      "metadata": {
        "colab": {
          "base_uri": "https://localhost:8080/"
        },
        "id": "257-s1YDSD4a",
        "outputId": "98174f53-cbcb-4465-b56e-66f9c9e13cae"
      },
      "source": [
        "porter = PorterStemmer()\n",
        "# NLP = [porter.stem(word) for word in morph]\n",
        "[porter.stem(word) for word in morph]"
      ],
      "execution_count": null,
      "outputs": [
        {
          "output_type": "execute_result",
          "data": {
            "text/plain": [
              "['factor',\n",
              " 'that',\n",
              " 'could',\n",
              " 'caus',\n",
              " 'such',\n",
              " 'differ',\n",
              " 'includ',\n",
              " ',',\n",
              " 'but',\n",
              " 'are',\n",
              " 'not',\n",
              " 'limit',\n",
              " 'to',\n",
              " ',',\n",
              " 'those',\n",
              " 'discuss',\n",
              " 'in',\n",
              " '“',\n",
              " 'item',\n",
              " '1A',\n",
              " '.',\n",
              " 'risk',\n",
              " 'factor',\n",
              " '”',\n",
              " 'and',\n",
              " 'in',\n",
              " 'the',\n",
              " '“',\n",
              " 'forward-look',\n",
              " 'statement',\n",
              " '–',\n",
              " 'cautionari',\n",
              " 'languag',\n",
              " '”',\n",
              " 'in',\n",
              " '“',\n",
              " 'part',\n",
              " 'II',\n",
              " '–',\n",
              " 'item',\n",
              " '7',\n",
              " '.']"
            ]
          },
          "metadata": {},
          "execution_count": 25
        }
      ]
    },
    {
      "cell_type": "code",
      "metadata": {
        "colab": {
          "base_uri": "https://localhost:8080/"
        },
        "id": "A4US45_mUobs",
        "outputId": "140e4cf7-0904-4a5e-bf68-3783d1a7291b"
      },
      "source": [
        "morph"
      ],
      "execution_count": null,
      "outputs": [
        {
          "output_type": "execute_result",
          "data": {
            "text/plain": [
              "['Factors',\n",
              " 'that',\n",
              " 'could',\n",
              " 'cause',\n",
              " 'such',\n",
              " 'differences',\n",
              " 'include',\n",
              " ',',\n",
              " 'but',\n",
              " 'are',\n",
              " 'not',\n",
              " 'limited',\n",
              " 'to',\n",
              " ',',\n",
              " 'those',\n",
              " 'discussed',\n",
              " 'in',\n",
              " '“',\n",
              " 'Item',\n",
              " '1A',\n",
              " '.',\n",
              " 'Risk',\n",
              " 'Factors',\n",
              " '”',\n",
              " 'and',\n",
              " 'in',\n",
              " 'the',\n",
              " '“',\n",
              " 'Forward-Looking',\n",
              " 'Statements',\n",
              " '–',\n",
              " 'Cautionary',\n",
              " 'Language',\n",
              " '”',\n",
              " 'in',\n",
              " '“',\n",
              " 'Part',\n",
              " 'II',\n",
              " '–',\n",
              " 'Item',\n",
              " '7',\n",
              " '.']"
            ]
          },
          "metadata": {},
          "execution_count": 26
        }
      ]
    },
    {
      "cell_type": "code",
      "metadata": {
        "id": "h9Yg3dk7q9wv"
      },
      "source": [
        ""
      ],
      "execution_count": null,
      "outputs": []
    }
  ]
}